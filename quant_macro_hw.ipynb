{
  "cells": [
    {
      "cell_type": "markdown",
      "metadata": {
        "id": "view-in-github",
        "colab_type": "text"
      },
      "source": [
        "<a href=\"https://colab.research.google.com/github/yan2727/quant-macro/blob/main/quant_macro_hw.ipynb\" target=\"_parent\"><img src=\"https://colab.research.google.com/assets/colab-badge.svg\" alt=\"Open In Colab\"/></a>"
      ]
    },
    {
      "cell_type": "code",
      "execution_count": 10,
      "metadata": {
        "colab": {
          "base_uri": "https://localhost:8080/"
        },
        "id": "7xY0PSws21Ex",
        "outputId": "6d58af93-3dc7-4482-adfe-35b7d31254fe"
      },
      "outputs": [
        {
          "output_type": "stream",
          "name": "stdout",
          "text": [
            "                    g        tg        cd     alpha  Growth Rate  \\\n",
            "countrycode                                                        \n",
            "CAN          0.887700  0.253687  0.634013  0.346190     0.887700   \n",
            "DEU          0.661055  0.223337  0.437718  0.370730     0.661055   \n",
            "FRA          0.829236  0.260418  0.568817  0.381194     0.829236   \n",
            "GBR          1.015544  0.442543  0.573001  0.412993     1.015544   \n",
            "ITA         -0.037181 -0.571016  0.533835  0.484835    -0.037181   \n",
            "JPN          0.710956  0.079903  0.631053  0.430601     0.710956   \n",
            "USA          1.536985  0.756660  0.780325  0.393260     1.536985   \n",
            "\n",
            "             Capital Deepening  TFP Growth  TFP Share  Capital Share  \n",
            "countrycode                                                           \n",
            "CAN                   0.634013    0.253687   0.285780       0.346190  \n",
            "DEU                   0.437718    0.223337   0.337849       0.370730  \n",
            "FRA                   0.568817    0.260418   0.314046       0.381194  \n",
            "GBR                   0.573001    0.442543   0.435770       0.412993  \n",
            "ITA                   0.533835   -0.571016  15.357584       0.484835  \n",
            "JPN                   0.631053    0.079903   0.112389       0.430601  \n",
            "USA                   0.780325    0.756660   0.492302       0.393260  \n"
          ]
        }
      ],
      "source": [
        "import pandas as pd\n",
        "import numpy as np\n",
        "\n",
        "\n",
        "# Load data\n",
        "pwt1001 = pd.read_stata('https://dataverse.nl/api/access/datafile/354098')\n",
        "\n",
        "# Filter and select relevant columns\n",
        "data = pwt1001.loc[pwt1001['country'].isin([\"France\",\"Germany\",\"Canada\",\"Italy\",\"Japan\",\"United Kingdom\",\"United States\"])][['year', 'countrycode', 'rgdpna', 'rkna', 'pop', 'emp', 'avh', 'labsh', 'rtfpna']]\n",
        "data = data.loc[(data['year'] >= 1995) & (data['year'] <= 2019)].dropna()\n",
        "\n",
        "# Calculate additional variables\n",
        "data['y_pc'] = np.log(data['rgdpna'] / data['emp'])  # GDP per worker log　(y=Y/N)\n",
        "data['k_pc'] = np.log(data['rkna'] / data['emp'])  # Capital per worker (k=K/N)\n",
        "\n",
        "data['alpha'] = 1 - data['labsh'] # Capital share 資本支配率\n",
        "data['y_n'] = data['rgdpna'] / data['emp']  # Y/N\n",
        "data['hours'] = data['emp'] * data['avh']  # L\n",
        "data['tfp_term'] = data['rtfpna'] ** (1 / (1 - data['alpha']))  # A^(1/(1-alpha))\n",
        "data['cap_term'] = (data['rkna'] / data['rgdpna']) ** (data['alpha'] / (1 - data['alpha']))  # (K/Y)^(alpha/(1-alpha))\n",
        "data['lab_term'] = data['hours'] / data['pop']  # L/N\n",
        "\n",
        "\n",
        "# Order by year\n",
        "data = data.sort_values('year')\n",
        "\n",
        "# Group by isocode\n",
        "grouped_data = data.groupby('countrycode')\n",
        "\n",
        "# Calculate growth rates and Solow residual\n",
        "data['g'] = (grouped_data['y_pc'].diff() * 100)  # Growth rate of GDP per capita\n",
        "data['cd']= data['alpha'] * (grouped_data['k_pc'].diff() * 100) #Capital Deepning\n",
        "data['tg']= data['g'] - data['cd'] #TFP Growth\n",
        "\n",
        "# Remove missing values\n",
        "data = data.dropna()\n",
        "\n",
        "# Calculate summary statistics\n",
        "summary = data.groupby('countrycode').agg({'g': 'mean',\n",
        "                                       'tg': \"mean\",\n",
        "                                          'cd': 'mean', \n",
        "                                          'alpha': 'mean'})\n",
        "\n",
        "# Calculate additional summary statistics\n",
        "summary['Growth Rate'] = summary['g']\n",
        "summary['Capital Deepening'] = summary['cd']\n",
        "summary['TFP Growth'] = summary['tg']\n",
        "summary['TFP Share'] = summary['TFP Growth'] / summary['Growth Rate']\n",
        "summary['Capital Share'] = summary['alpha']\n",
        "\n",
        "\n",
        "# Print output\n",
        "print(summary)"
      ]
    }
  ],
  "metadata": {
    "colab": {
      "provenance": [],
      "include_colab_link": true
    },
    "kernelspec": {
      "display_name": "Python 3",
      "name": "python3"
    },
    "language_info": {
      "name": "python"
    }
  },
  "nbformat": 4,
  "nbformat_minor": 0
}